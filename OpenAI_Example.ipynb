{
  "nbformat": 4,
  "nbformat_minor": 0,
  "metadata": {
    "colab": {
      "provenance": []
    },
    "kernelspec": {
      "name": "python3",
      "display_name": "Python 3"
    },
    "language_info": {
      "name": "python"
    }
  },
  "cells": [
    {
      "cell_type": "code",
      "execution_count": 14,
      "metadata": {
        "colab": {
          "base_uri": "https://localhost:8080/"
        },
        "id": "deRTdHXd3kYe",
        "outputId": "a7134ed4-be66-4d59-cf63-c544b83fa48a"
      },
      "outputs": [
        {
          "output_type": "stream",
          "name": "stdout",
          "text": [
            "Requirement already satisfied: PyMuPDF in /usr/local/lib/python3.10/dist-packages (1.24.2)\n",
            "Requirement already satisfied: openai in /usr/local/lib/python3.10/dist-packages (1.25.0)\n",
            "Requirement already satisfied: PyMuPDFb==1.24.1 in /usr/local/lib/python3.10/dist-packages (from PyMuPDF) (1.24.1)\n",
            "Requirement already satisfied: anyio<5,>=3.5.0 in /usr/local/lib/python3.10/dist-packages (from openai) (3.7.1)\n",
            "Requirement already satisfied: distro<2,>=1.7.0 in /usr/lib/python3/dist-packages (from openai) (1.7.0)\n",
            "Requirement already satisfied: httpx<1,>=0.23.0 in /usr/local/lib/python3.10/dist-packages (from openai) (0.27.0)\n",
            "Requirement already satisfied: pydantic<3,>=1.9.0 in /usr/local/lib/python3.10/dist-packages (from openai) (2.7.1)\n",
            "Requirement already satisfied: sniffio in /usr/local/lib/python3.10/dist-packages (from openai) (1.3.1)\n",
            "Requirement already satisfied: tqdm>4 in /usr/local/lib/python3.10/dist-packages (from openai) (4.66.2)\n",
            "Requirement already satisfied: typing-extensions<5,>=4.7 in /usr/local/lib/python3.10/dist-packages (from openai) (4.11.0)\n",
            "Requirement already satisfied: idna>=2.8 in /usr/local/lib/python3.10/dist-packages (from anyio<5,>=3.5.0->openai) (3.7)\n",
            "Requirement already satisfied: exceptiongroup in /usr/local/lib/python3.10/dist-packages (from anyio<5,>=3.5.0->openai) (1.2.1)\n",
            "Requirement already satisfied: certifi in /usr/local/lib/python3.10/dist-packages (from httpx<1,>=0.23.0->openai) (2024.2.2)\n",
            "Requirement already satisfied: httpcore==1.* in /usr/local/lib/python3.10/dist-packages (from httpx<1,>=0.23.0->openai) (1.0.5)\n",
            "Requirement already satisfied: h11<0.15,>=0.13 in /usr/local/lib/python3.10/dist-packages (from httpcore==1.*->httpx<1,>=0.23.0->openai) (0.14.0)\n",
            "Requirement already satisfied: annotated-types>=0.4.0 in /usr/local/lib/python3.10/dist-packages (from pydantic<3,>=1.9.0->openai) (0.6.0)\n",
            "Requirement already satisfied: pydantic-core==2.18.2 in /usr/local/lib/python3.10/dist-packages (from pydantic<3,>=1.9.0->openai) (2.18.2)\n",
            "Requirement already satisfied: openai in /usr/local/lib/python3.10/dist-packages (1.25.0)\n",
            "Requirement already satisfied: anyio<5,>=3.5.0 in /usr/local/lib/python3.10/dist-packages (from openai) (3.7.1)\n",
            "Requirement already satisfied: distro<2,>=1.7.0 in /usr/lib/python3/dist-packages (from openai) (1.7.0)\n",
            "Requirement already satisfied: httpx<1,>=0.23.0 in /usr/local/lib/python3.10/dist-packages (from openai) (0.27.0)\n",
            "Requirement already satisfied: pydantic<3,>=1.9.0 in /usr/local/lib/python3.10/dist-packages (from openai) (2.7.1)\n",
            "Requirement already satisfied: sniffio in /usr/local/lib/python3.10/dist-packages (from openai) (1.3.1)\n",
            "Requirement already satisfied: tqdm>4 in /usr/local/lib/python3.10/dist-packages (from openai) (4.66.2)\n",
            "Requirement already satisfied: typing-extensions<5,>=4.7 in /usr/local/lib/python3.10/dist-packages (from openai) (4.11.0)\n",
            "Requirement already satisfied: idna>=2.8 in /usr/local/lib/python3.10/dist-packages (from anyio<5,>=3.5.0->openai) (3.7)\n",
            "Requirement already satisfied: exceptiongroup in /usr/local/lib/python3.10/dist-packages (from anyio<5,>=3.5.0->openai) (1.2.1)\n",
            "Requirement already satisfied: certifi in /usr/local/lib/python3.10/dist-packages (from httpx<1,>=0.23.0->openai) (2024.2.2)\n",
            "Requirement already satisfied: httpcore==1.* in /usr/local/lib/python3.10/dist-packages (from httpx<1,>=0.23.0->openai) (1.0.5)\n",
            "Requirement already satisfied: h11<0.15,>=0.13 in /usr/local/lib/python3.10/dist-packages (from httpcore==1.*->httpx<1,>=0.23.0->openai) (0.14.0)\n",
            "Requirement already satisfied: annotated-types>=0.4.0 in /usr/local/lib/python3.10/dist-packages (from pydantic<3,>=1.9.0->openai) (0.6.0)\n",
            "Requirement already satisfied: pydantic-core==2.18.2 in /usr/local/lib/python3.10/dist-packages (from pydantic<3,>=1.9.0->openai) (2.18.2)\n"
          ]
        }
      ],
      "source": [
        "!pip install PyMuPDF openai\n",
        "!pip install --upgrade openai"
      ]
    },
    {
      "cell_type": "code",
      "source": [
        "import fitz  # PyMuPDF\n",
        "import openai\n",
        "\n",
        "def extract_text_from_pdf(pdf_path):\n",
        "    # Open the provided PDF file\n",
        "    doc = fitz.open(pdf_path)\n",
        "    text = \"\"\n",
        "    for page in doc:\n",
        "        text += page.get_text()\n",
        "    return text\n",
        "\n"
      ],
      "metadata": {
        "id": "rbkofrSC3okQ"
      },
      "execution_count": 25,
      "outputs": []
    },
    {
      "cell_type": "code",
      "source": [
        "# Path to your PDF file\n",
        "pdf_path = \"/content/OREA-Form-100 (2)Agreement of Purchase and Sale.pdf\"\n",
        "# here to give path of contract--- example\n",
        "\n",
        "# Extract text from the PDF\n",
        "contract_text = extract_text_from_pdf(pdf_path)"
      ],
      "metadata": {
        "id": "pDPND0vX5z0s"
      },
      "execution_count": 26,
      "outputs": []
    },
    {
      "cell_type": "code",
      "source": [],
      "metadata": {
        "id": "XrRUdKsE51CO"
      },
      "execution_count": 24,
      "outputs": []
    },
    {
      "cell_type": "code",
      "source": [
        "from openai import OpenAI\n",
        "API_KEY = ''\n",
        "### Here to give API\n",
        "client = OpenAI(\n",
        "  api_key=API_KEY\n",
        " )"
      ],
      "metadata": {
        "id": "StQfNkUw5uHa"
      },
      "execution_count": 18,
      "outputs": []
    },
    {
      "cell_type": "code",
      "source": [
        "with open('./sample_contract.txt') as f:\n",
        "  contract_text=f.read()\n"
      ],
      "metadata": {
        "id": "aAF5454NL7pC"
      },
      "execution_count": 19,
      "outputs": []
    },
    {
      "cell_type": "code",
      "source": [
        "def get_template(content,questions,answers=''):\n",
        "  template = \"\"\"\n",
        "  ### Contract Content:\n",
        "  {}\n",
        "\n",
        "  ### Questions:\n",
        "  {}\n",
        "  ### Answer to each question:\n",
        "  {}\n",
        "\n",
        "  \"\"\".format(content,'\\n'.join(questions),'\\n'.join(answers) if answers else '')\n",
        "  return template"
      ],
      "metadata": {
        "id": "jsfMv-G36KtL"
      },
      "execution_count": 20,
      "outputs": []
    },
    {
      "cell_type": "code",
      "source": [
        "questions = [\n",
        "    \"What is the address of the property?\",\n",
        "    \"What is the deadline for the closing?\",\n",
        "    \"Is it possible for the buyer or seller to delay the closing by a few days?\",\n",
        "    \"Can extrinsic evidence be considered admissible in relation to the contract?\",\n",
        "    \"Is the buyer or the seller responsible for fees associated with title transfer?\"\n",
        "]\n"
      ],
      "metadata": {
        "id": "R6bNuIbI6nT_"
      },
      "execution_count": 27,
      "outputs": []
    },
    {
      "cell_type": "code",
      "source": [
        "answers=['Property Address: 1 Main St, New York, New York','Closing Date: January 1, 2022','No. Because time is of the essence.', 'No.','Seller is responsible']\n",
        "Example= get_template(contract_text,questions,answers)"
      ],
      "metadata": {
        "id": "w2m3diAT8xRw"
      },
      "execution_count": 29,
      "outputs": []
    },
    {
      "cell_type": "code",
      "source": [
        "responses = []\n",
        "\n",
        "completion = client.chat.completions.create(\n",
        "  model=\"gpt-3.5-turbo\",\n",
        "  messages=[\n",
        "    {\"role\": \"system\", \"content\": \"We will give you some contracts and Please answer the following inquiries: ”What is the address of the property?”, ”What is the deadline for the closing?”, ”Is it possible for the buyer or seller to delay the closing by a few days?”, etc. If the infomation is not provided, just imply by law. \"},\n",
        "    {\"role\":\"system\",\"content\":f\"Here is an example: {Example}\"},\n",
        "    {\"role\": \"user\", \"content\": get_template(contract_text,questions)}\n",
        "  ],\n",
        "  max_tokens=200\n",
        ")\n",
        "\n",
        "responses.append(completion.choices[0].message.content)\n"
      ],
      "metadata": {
        "id": "NbmVsUSj6h_S"
      },
      "execution_count": 23,
      "outputs": []
    },
    {
      "cell_type": "code",
      "source": [
        "print(responses[0])"
      ],
      "metadata": {
        "colab": {
          "base_uri": "https://localhost:8080/"
        },
        "id": "bKUPy6aZBwMw",
        "outputId": "5c6d6f1a-ccde-4eb3-9d97-60609ec939bd"
      },
      "execution_count": 24,
      "outputs": [
        {
          "output_type": "stream",
          "name": "stdout",
          "text": [
            "What is the address of the property?  \n",
            "- Property Address: 1 Main St, New York, New York\n",
            "\n",
            "What is the deadline for the closing?  \n",
            "- Closing Date: January 1, 2022\n",
            "\n",
            "Is it possible for the buyer or seller to delay the closing by a few days?  \n",
            "- No. Because time is of the essence.\n",
            "\n",
            "Can extrinsic evidence be considered admissible in relation to the contract?  \n",
            "- No.\n",
            "\n",
            "Is the buyer or the seller responsible for fees associated with title transfer?  \n",
            "- Seller is responsible\n"
          ]
        }
      ]
    },
    {
      "cell_type": "code",
      "source": [],
      "metadata": {
        "id": "z6hKb49cTXkP"
      },
      "execution_count": null,
      "outputs": []
    },
    {
      "cell_type": "code",
      "source": [],
      "metadata": {
        "id": "YhHjtP1JBznL"
      },
      "execution_count": 24,
      "outputs": []
    }
  ]
}